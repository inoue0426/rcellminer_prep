{
 "cells": [
  {
   "cell_type": "code",
   "execution_count": 1,
   "id": "7e88207c",
   "metadata": {},
   "outputs": [],
   "source": [
    "import pandas as pd\n",
    "import numpy as np"
   ]
  },
  {
   "cell_type": "code",
   "execution_count": 2,
   "id": "2e67d4ee",
   "metadata": {
    "scrolled": true
   },
   "outputs": [
    {
     "data": {
      "text/plain": [
       "['copy.csv',\n",
       " 'drug_response.csv',\n",
       " 'gene_expression.csv',\n",
       " 'log2_gene_expression.csv',\n",
       " 'methylation.csv',\n",
       " 'mutation.csv']"
      ]
     },
     "execution_count": 2,
     "metadata": {},
     "output_type": "execute_result"
    }
   ],
   "source": [
    "data = !ls data/ | grep -v simpl | grep -v annot\n",
    "data"
   ]
  },
  {
   "cell_type": "code",
   "execution_count": null,
   "id": "06f3f241",
   "metadata": {},
   "outputs": [],
   "source": []
  },
  {
   "cell_type": "code",
   "execution_count": 3,
   "id": "5c55d941",
   "metadata": {},
   "outputs": [],
   "source": [
    "res = {}\n",
    "for i in data:\n",
    "    res[i.split('.')[0]] = pd.read_csv(f'data/{i}', index_col=0)"
   ]
  },
  {
   "cell_type": "code",
   "execution_count": 4,
   "id": "b882857b",
   "metadata": {},
   "outputs": [
    {
     "name": "stdout",
     "output_type": "stream",
     "text": [
      "copy: (23232, 60).\n",
      "drug_response: (24047, 60).\n",
      "gene_expression: (23826, 60).\n",
      "log2_gene_expression: (23826, 60).\n",
      "methylation: (17553, 60).\n",
      "mutation: (9307, 60).\n",
      "\n",
      "Unique genes: 26292\n"
     ]
    }
   ],
   "source": [
    "unique_genes = []\n",
    "for i in res.keys():\n",
    "    print(f\"{i}: {res[i].shape}.\")\n",
    "    if i != 'drug_response':\n",
    "        unique_genes.extend(list(res[i].index))\n",
    "        \n",
    "print(f'\\nUnique genes: {len(set(unique_genes))}')"
   ]
  },
  {
   "cell_type": "code",
   "execution_count": null,
   "id": "8f6c7639",
   "metadata": {},
   "outputs": [],
   "source": []
  },
  {
   "cell_type": "code",
   "execution_count": null,
   "id": "560b1ade",
   "metadata": {},
   "outputs": [],
   "source": []
  },
  {
   "cell_type": "code",
   "execution_count": null,
   "id": "b534a630",
   "metadata": {},
   "outputs": [],
   "source": []
  },
  {
   "cell_type": "code",
   "execution_count": null,
   "id": "97b12d77",
   "metadata": {},
   "outputs": [],
   "source": []
  }
 ],
 "metadata": {
  "kernelspec": {
   "display_name": "torch",
   "language": "python",
   "name": "torch"
  },
  "language_info": {
   "codemirror_mode": {
    "name": "ipython",
    "version": 3
   },
   "file_extension": ".py",
   "mimetype": "text/x-python",
   "name": "python",
   "nbconvert_exporter": "python",
   "pygments_lexer": "ipython3",
   "version": "3.10.14"
  }
 },
 "nbformat": 4,
 "nbformat_minor": 5
}
